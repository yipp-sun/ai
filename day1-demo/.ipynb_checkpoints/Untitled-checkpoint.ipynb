{
 "cells": [
  {
   "cell_type": "code",
   "execution_count": 1,
   "id": "a3779739-14a1-4af1-9bc8-42df34155d52",
   "metadata": {},
   "outputs": [
    {
     "name": "stdout",
     "output_type": "stream",
     "text": [
      "https://api.openai.com/v1\n",
      "{\n",
      "  \"id\": \"chatcmpl-AFwWJCeTT1YQmkowK14pDgWsDhaiR\",\n",
      "  \"object\": \"chat.completion\",\n",
      "  \"created\": 1728363235,\n",
      "  \"model\": \"gpt-4-0613\",\n",
      "  \"choices\": [\n",
      "    {\n",
      "      \"index\": 0,\n",
      "      \"message\": {\n",
      "        \"role\": \"assistant\",\n",
      "        \"content\": \"Hello! How can I assist you today?\",\n",
      "        \"refusal\": null\n",
      "      },\n",
      "      \"logprobs\": null,\n",
      "      \"finish_reason\": \"stop\"\n",
      "    }\n",
      "  ],\n",
      "  \"usage\": {\n",
      "    \"prompt_tokens\": 14,\n",
      "    \"completion_tokens\": 9,\n",
      "    \"total_tokens\": 23,\n",
      "    \"prompt_tokens_details\": {\n",
      "      \"cached_tokens\": 0\n",
      "    },\n",
      "    \"completion_tokens_details\": {\n",
      "      \"reasoning_tokens\": 0\n",
      "    }\n",
      "  },\n",
      "  \"system_fingerprint\": null\n",
      "}\n",
      "\n"
     ]
    }
   ],
   "source": [
    "import requests\n",
    "import json\n",
    "import os\n",
    "\n",
    "print(os.getenv('OPENAI_BASE_URL'))\n",
    "url = os.getenv('OPENAI_BASE_URL') + \"/chat/completions\"\n",
    "payload = json.dumps({\n",
    "    \"model\": \"gpt-4\",\n",
    "    \"messages\": [\n",
    "        {\"role\": \"system\", \"content\": \"assistant\"},\n",
    "        {\"role\": \"user\", \"content\": \"Hello world\"}\n",
    "    ]\n",
    "})\n",
    "headers = {\n",
    "    'Accept': 'application/json',\n",
    "    'User-Agent': 'Apifox/1.0.0 (https://apifox.com)',\n",
    "    'Content-Type': 'application/json',\n",
    "    'Authorization': 'Bearer ' + os.getenv('OPENAI_API_KEY'),\n",
    "    'Host': 'api.openai.com',\n",
    "    'Connection': 'keep-alive'\n",
    "}\n",
    "\n",
    "response = requests.request(\"POST\", url, headers=headers, data=payload)\n",
    "print(response.text)\n"
   ]
  },
  {
   "cell_type": "markdown",
   "id": "d165eebf-4a56-4a83-b3b8-44bf8054d29d",
   "metadata": {},
   "source": [
    "# 学习计划"
   ]
  }
 ],
 "metadata": {
  "kernelspec": {
   "display_name": "Python 3 (ipykernel)",
   "language": "python",
   "name": "python3"
  },
  "language_info": {
   "codemirror_mode": {
    "name": "ipython",
    "version": 3
   },
   "file_extension": ".py",
   "mimetype": "text/x-python",
   "name": "python",
   "nbconvert_exporter": "python",
   "pygments_lexer": "ipython3",
   "version": "3.12.4"
  }
 },
 "nbformat": 4,
 "nbformat_minor": 5
}
