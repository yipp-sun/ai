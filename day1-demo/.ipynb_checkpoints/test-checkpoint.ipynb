{
 "cells": [
  {
   "cell_type": "code",
   "execution_count": null,
   "id": "initial_id",
   "metadata": {
    "collapsed": true
   },
   "outputs": [],
   "source": "# 学习笔记"
  },
  {
   "metadata": {
    "ExecuteTime": {
     "end_time": "2024-10-09T15:03:24.876620Z",
     "start_time": "2024-10-09T15:03:21.101634Z"
    }
   },
   "cell_type": "code",
   "source": [
    "#pip install requests\n",
    "import requests\n",
    "import json\n",
    "import os\n",
    "\n",
    "print(os.getenv('OPENAI_BASE_URL'))\n",
    "url = os.getenv('OPENAI_BASE_URL') + \"/chat/completions\"\n",
    "payload = json.dumps({\n",
    "    \"model\": \"gpt-4\",\n",
    "    \"messages\": [\n",
    "        {\"role\": \"system\", \"content\": \"assistant\"},\n",
    "        {\"role\": \"user\", \"content\": \"Hello world\"}\n",
    "    ]\n",
    "})\n",
    "headers = {\n",
    "    'Accept': 'application/json',\n",
    "    'User-Agent': 'Apifox/1.0.0 (https://apifox.com)',\n",
    "    'Content-Type': 'application/json',\n",
    "    'Authorization': 'Bearer ' + os.getenv('OPENAI_API_KEY'),\n",
    "    'Host': 'api.openai.com',\n",
    "    'Connection': 'keep-alive'\n",
    "}\n",
    "\n",
    "response = requests.request(\"POST\", url, headers=headers, data=payload)\n",
    "print(response.text)\n"
   ],
   "id": "9c5238571102d2b",
   "outputs": [
    {
     "name": "stdout",
     "output_type": "stream",
     "text": [
      "https://api.openai.com/v1\n",
      "{\n",
      "  \"id\": \"chatcmpl-AGSVeFTjP4H3ra0If8XPpYCJ9y2A1\",\n",
      "  \"object\": \"chat.completion\",\n",
      "  \"created\": 1728486202,\n",
      "  \"model\": \"gpt-4-0613\",\n",
      "  \"choices\": [\n",
      "    {\n",
      "      \"index\": 0,\n",
      "      \"message\": {\n",
      "        \"role\": \"assistant\",\n",
      "        \"content\": \"Hello! How can I assist you today?\",\n",
      "        \"refusal\": null\n",
      "      },\n",
      "      \"logprobs\": null,\n",
      "      \"finish_reason\": \"stop\"\n",
      "    }\n",
      "  ],\n",
      "  \"usage\": {\n",
      "    \"prompt_tokens\": 14,\n",
      "    \"completion_tokens\": 9,\n",
      "    \"total_tokens\": 23,\n",
      "    \"prompt_tokens_details\": {\n",
      "      \"cached_tokens\": 0\n",
      "    },\n",
      "    \"completion_tokens_details\": {\n",
      "      \"reasoning_tokens\": 0\n",
      "    }\n",
      "  },\n",
      "  \"system_fingerprint\": null\n",
      "}\n",
      "\n"
     ]
    }
   ],
   "execution_count": 1
  },
  {
   "metadata": {},
   "cell_type": "code",
   "outputs": [],
   "execution_count": null,
   "source": "",
   "id": "df81abe12f7d7687"
  }
 ],
 "metadata": {
  "kernelspec": {
   "display_name": "Python 3",
   "language": "python",
   "name": "python3"
  },
  "language_info": {
   "codemirror_mode": {
    "name": "ipython",
    "version": 2
   },
   "file_extension": ".py",
   "mimetype": "text/x-python",
   "name": "python",
   "nbconvert_exporter": "python",
   "pygments_lexer": "ipython2",
   "version": "2.7.6"
  }
 },
 "nbformat": 4,
 "nbformat_minor": 5
}
