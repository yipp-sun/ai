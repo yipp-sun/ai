{
 "cells": [
  {
   "cell_type": "markdown",
   "id": "d165eebf-4a56-4a83-b3b8-44bf8054d29d",
   "metadata": {},
   "source": [
    "## 学习笔记"
   ]
  },
  {
   "metadata": {
    "ExecuteTime": {
     "end_time": "2024-10-08T14:34:00.707880Z",
     "start_time": "2024-10-08T14:33:59.232547Z"
    }
   },
   "cell_type": "code",
   "source": [
    "import requests\n",
    "import json\n",
    "import os\n",
    "\n",
    "print(os.getenv('OPENAI_BASE_URL'))\n",
    "url = os.getenv('OPENAI_BASE_URL') + \"/chat/completions\"\n",
    "payload = json.dumps({\n",
    "    \"model\": \"gpt-4\",\n",
    "    \"messages\": [\n",
    "        {\"role\": \"system\", \"content\": \"assistant\"},\n",
    "        {\"role\": \"user\", \"content\": \"Hello world\"}\n",
    "    ]\n",
    "})\n",
    "headers = {\n",
    "    'Accept': 'application/json',\n",
    "    'User-Agent': 'Apifox/1.0.0 (https://apifox.com)',\n",
    "    'Content-Type': 'application/json',\n",
    "    'Authorization': 'Bearer ' + os.getenv('OPENAI_API_KEY'),\n",
    "    'Host': 'api.openai.com',\n",
    "    'Connection': 'keep-alive'\n",
    "}\n",
    "\n",
    "response = requests.request(\"POST\", url, headers=headers, data=payload)\n",
    "print(response.text)\n"
   ],
   "id": "d9c8b51d298ef76a",
   "outputs": [
    {
     "name": "stdout",
     "output_type": "stream",
     "text": [
      "https://api.openai.com/v1\n",
      "{\n",
      "  \"id\": \"chatcmpl-AG5ZfI1TMWhPUh02URLdQeMp1iJy3\",\n",
      "  \"object\": \"chat.completion\",\n",
      "  \"created\": 1728398039,\n",
      "  \"model\": \"gpt-4-0613\",\n",
      "  \"choices\": [\n",
      "    {\n",
      "      \"index\": 0,\n",
      "      \"message\": {\n",
      "        \"role\": \"assistant\",\n",
      "        \"content\": \"Hello! How can I assist you today?\",\n",
      "        \"refusal\": null\n",
      "      },\n",
      "      \"logprobs\": null,\n",
      "      \"finish_reason\": \"stop\"\n",
      "    }\n",
      "  ],\n",
      "  \"usage\": {\n",
      "    \"prompt_tokens\": 14,\n",
      "    \"completion_tokens\": 9,\n",
      "    \"total_tokens\": 23,\n",
      "    \"prompt_tokens_details\": {\n",
      "      \"cached_tokens\": 0\n",
      "    },\n",
      "    \"completion_tokens_details\": {\n",
      "      \"reasoning_tokens\": 0\n",
      "    }\n",
      "  },\n",
      "  \"system_fingerprint\": null\n",
      "}\n",
      "\n"
     ]
    }
   ],
   "execution_count": 3
  },
  {
   "cell_type": "code",
   "id": "599fb0be41ffe1bd",
   "metadata": {
    "ExecuteTime": {
     "end_time": "2024-10-08T14:33:59.228545Z",
     "start_time": "2024-10-08T14:33:56.044336Z"
    }
   },
   "source": [],
   "outputs": [
    {
     "name": "stderr",
     "output_type": "stream",
     "text": [
      "Could not connect to 127.0.0.1: 11506\n",
      "Traceback (most recent call last):\n",
      "  File \"D:\\software\\PyCharm\\PyCharm-2024.1.4\\plugins\\python\\helpers\\pydev\\_pydevd_bundle\\pydevd_comm.py\", line 465, in start_client\n",
      "    s.connect((host, port))\n",
      "ConnectionRefusedError: [WinError 10061] 由于目标计算机积极拒绝，无法连接。\n",
      "Traceback (most recent call last):\n",
      "  File \"D:\\software\\PyCharm\\PyCharm-2024.1.4\\plugins\\python\\helpers-pro\\jupyter_debug\\pydev_jupyter_utils.py\", line 81, in attach_to_debugger\n",
      "    debugger.connect(pydev_localhost.get_localhost(), debugger_port)\n",
      "  File \"D:\\software\\PyCharm\\PyCharm-2024.1.4\\plugins\\python\\helpers\\pydev\\pydevd.py\", line 687, in connect\n",
      "    s = start_client(host, port)\n",
      "        ^^^^^^^^^^^^^^^^^^^^^^^^\n",
      "  File \"D:\\software\\PyCharm\\PyCharm-2024.1.4\\plugins\\python\\helpers\\pydev\\_pydevd_bundle\\pydevd_comm.py\", line 465, in start_client\n",
      "    s.connect((host, port))\n",
      "ConnectionRefusedError: [WinError 10061] 由于目标计算机积极拒绝，无法连接。\n",
      "Failed to connect to target debugger.\n"
     ]
    }
   ],
   "execution_count": 2
  },
  {
   "metadata": {},
   "cell_type": "markdown",
   "source": "",
   "id": "64eccc074a42d821"
  },
  {
   "metadata": {},
   "cell_type": "code",
   "outputs": [],
   "execution_count": null,
   "source": "",
   "id": "717c2775302dd51c"
  },
  {
   "metadata": {},
   "cell_type": "markdown",
   "source": "",
   "id": "1bacf2609c14cfc7"
  }
 ],
 "metadata": {
  "kernelspec": {
   "display_name": "Python 3 (ipykernel)",
   "language": "python",
   "name": "python3"
  },
  "language_info": {
   "codemirror_mode": {
    "name": "ipython",
    "version": 3
   },
   "file_extension": ".py",
   "mimetype": "text/x-python",
   "name": "python",
   "nbconvert_exporter": "python",
   "pygments_lexer": "ipython3",
   "version": "3.12.4"
  }
 },
 "nbformat": 4,
 "nbformat_minor": 5
}
